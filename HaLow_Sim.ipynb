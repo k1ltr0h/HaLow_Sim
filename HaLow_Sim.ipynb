{
 "cells": [
  {
   "cell_type": "code",
   "execution_count": 15,
   "id": "f012546b",
   "metadata": {},
   "outputs": [],
   "source": [
    "import numpy as np\n",
    "import matplotlib.pyplot as plt\n",
    "import pandas as pd\n",
    "from scipy import special as sp"
   ]
  },
  {
   "cell_type": "code",
   "execution_count": 33,
   "id": "eb6d3756",
   "metadata": {},
   "outputs": [],
   "source": [
    "def qfunc(x):\n",
    "    ## Función Q, calculada con la función de error.\n",
    "    return 0.5-0.5*sp.erf(x/np.sqrt(2))"
   ]
  },
  {
   "cell_type": "code",
   "execution_count": 55,
   "id": "646357a6",
   "metadata": {},
   "outputs": [],
   "source": [
    "def get_SNRPerSimbol(snr, bw, sps):\n",
    "    ## snr: SNR de la señal en el recpetor.\n",
    "    ## bw: Ancho de banda de la señal.\n",
    "    ## sps: símbolos por segundo. \n",
    "    return snr*bw/sps "
   ]
  },
  {
   "cell_type": "code",
   "execution_count": 62,
   "id": "d6beb974",
   "metadata": {},
   "outputs": [],
   "source": [
    "def get_SimbolsPerSecond(bw, gi):\n",
    "    ## bw: Ancho de banda de la señal.\n",
    "    ## gi: Guard interval(Evita ISI(Interferencia inter-simbólica) por rebotes de la señal).\n",
    "    periodo = 1/bw\n",
    "    new_periodo = 1/bw + gi\n",
    "    return 1/new_periodo"
   ]
  },
  {
   "cell_type": "code",
   "execution_count": 63,
   "id": "78d191b9",
   "metadata": {},
   "outputs": [],
   "source": [
    "def get_SER(m, snr, bw, gi):\n",
    "    ## m: Número de M-QAM\n",
    "    ## snr: SNR de la señal en el recpetor.\n",
    "    ## bw: Ancho de banda de la señal.\n",
    "    ## gi: Guard interval(Evita ISI(Interferencia inter-simbólica) por rebotes de la señal).\n",
    "    sps = get_SimbolsPerSecond(bw, gi)\n",
    "    gamma = get_SNRPerSimbol(snr, bw, sps)\n",
    "    print(gamma)\n",
    "    \n",
    "    return 1-pow((1-(2*(np.sqrt(m)-1)/np.sqrt(m))*qfunc(np.sqrt(3*gamma/m-1))), 2)"
   ]
  },
  {
   "cell_type": "code",
   "execution_count": 65,
   "id": "c4037cc9",
   "metadata": {},
   "outputs": [
    {
     "name": "stdout",
     "output_type": "stream",
     "text": [
      "18.0\n"
     ]
    },
    {
     "data": {
      "text/plain": [
       "0.17638693679500583"
      ]
     },
     "execution_count": 65,
     "metadata": {},
     "output_type": "execute_result"
    }
   ],
   "source": [
    "get_SER(16, 2, 1e6, 8e-6)"
   ]
  },
  {
   "cell_type": "code",
   "execution_count": null,
   "id": "a4cb88ea",
   "metadata": {},
   "outputs": [],
   "source": []
  }
 ],
 "metadata": {
  "kernelspec": {
   "display_name": "Python 3",
   "language": "python",
   "name": "python3"
  },
  "language_info": {
   "codemirror_mode": {
    "name": "ipython",
    "version": 3
   },
   "file_extension": ".py",
   "mimetype": "text/x-python",
   "name": "python",
   "nbconvert_exporter": "python",
   "pygments_lexer": "ipython3",
   "version": "3.8.10"
  }
 },
 "nbformat": 4,
 "nbformat_minor": 5
}
