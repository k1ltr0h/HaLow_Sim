{
 "cells": [
  {
   "cell_type": "code",
   "execution_count": 19,
   "source": [
    "import numpy as np\n",
    "import matplotlib.pyplot as plt\n",
    "import pandas as pd\n",
    "from scipy import special as sp\n",
    "from scipy import stats\n",
    "\n",
    "import random"
   ],
   "outputs": [],
   "metadata": {}
  },
  {
   "cell_type": "code",
   "execution_count": 78,
   "source": [
    "def dB2Veces(potencia):\n",
    "    return pow(10, potencia/10)"
   ],
   "outputs": [],
   "metadata": {}
  },
  {
   "cell_type": "code",
   "execution_count": 79,
   "source": [
    "def dBm2pot(dbm):\n",
    "    return pow(10, dbm/10)*1e-3"
   ],
   "outputs": [],
   "metadata": {}
  },
  {
   "cell_type": "code",
   "execution_count": 2,
   "source": [
    "def qfunc(x):\n",
    "    ## Función Q, calculada con la función de error.\n",
    "    return 0.5-0.5*sp.erf(x/np.sqrt(2))"
   ],
   "outputs": [],
   "metadata": {}
  },
  {
   "cell_type": "code",
   "execution_count": 80,
   "source": [
    "def get_SNRPerSimbol(snr, bw, sps):\n",
    "    ## snr: SNR de la señal en el receptor.\n",
    "    ## bw: Ancho de banda de la señal.\n",
    "    ## sps: símbolos por segundo. \n",
    "    snr = dB2Veces(snr)\n",
    "    return snr*bw/sps "
   ],
   "outputs": [],
   "metadata": {}
  },
  {
   "cell_type": "code",
   "execution_count": 81,
   "source": [
    "def get_SimbolsPerSecond(bw, gi):\n",
    "    ## bw: Ancho de banda de la señal.\n",
    "    ## gi: Guard interval(Evita ISI(Interferencia inter-simbólica) por rebotes de la señal).\n",
    "    periodo = 1/bw\n",
    "    new_periodo = 1/bw + gi\n",
    "    return 1/new_periodo"
   ],
   "outputs": [],
   "metadata": {}
  },
  {
   "cell_type": "code",
   "execution_count": 158,
   "source": [
    "def get_SER(m, snr, bw, gi):\n",
    "    ## m: Número de M-QAM\n",
    "    ## snr: SNR de la señal en el receptor.\n",
    "    ## bw: Ancho de banda de la señal.\n",
    "    ## gi: Guard interval(Evita ISI(Interferencia inter-simbólica) por rebotes de la señal).\n",
    "    sps = get_SimbolsPerSecond(bw, gi)\n",
    "    gamma = get_SNRPerSimbol(snr, bw, sps)\n",
    "    #print(\"Gamma: \", gamma)\n",
    "    \n",
    "    return 1-pow((1-(2*(np.sqrt(m)-1)/np.sqrt(m))*qfunc(np.sqrt(3*gamma/(m-1)))), 2)"
   ],
   "outputs": [],
   "metadata": {}
  },
  {
   "cell_type": "code",
   "execution_count": 157,
   "source": [
    "def get_PER(n, m, snr, bw, gi):\n",
    "    ## n: N° de bits en un paquete\n",
    "    ## m: Número de M-QAM\n",
    "    ## snr: SNR de la señal en el receptor.\n",
    "    ## bw: Ancho de banda de la señal.\n",
    "    ## gi: Guard interval(Evita ISI(Interferencia inter-simbólica) por rebotes de la señal).\n",
    "    ps = get_SER(m, snr, bw, gi)\n",
    "    ## n_spp: N° de símbolos en un paquete\n",
    "    n_spp = int(n/np.log2(m))\n",
    "    #print(\"SER: \", ps, \"\\nN° símbolos por paquete: \", n_spp)\n",
    "    return 1-pow((1-ps), n_spp)"
   ],
   "outputs": [],
   "metadata": {}
  },
  {
   "cell_type": "code",
   "execution_count": 84,
   "source": [
    "def get_friis_propagation(pt, d, longOnda, ple):\n",
    "    ## pt: Potencia del transmisor. \n",
    "    ## d: Distancia hacia el receptor.\n",
    "    ## longOnda: Longitud de onda de la portadora.\n",
    "    ## ple: Path Loss Exponent\n",
    "    friis = (pt*(longOnda**2)/(((4*np.pi)**2)*((d)**ple)))   \n",
    "    return 10*np.log10(friis/1e-3)"
   ],
   "outputs": [],
   "metadata": {}
  },
  {
   "cell_type": "code",
   "execution_count": null,
   "source": [
    "def get_exponent_by_enviroment(enviroment):\n",
    "    if(enviroment == \"FREE_SPACE\"):\n",
    "        return 2\n",
    "    elif( enviroment == \"URBAN_AREA_CELLULAR_RADIO\"):\n",
    "        return random.uniform(2.7, 3.5)\n",
    "    elif( enviroment == \"SHADOWED_URBAN_CELLULAR_RADIO\"):\n",
    "        return random.uniform(3.0, 5.0)\n",
    "    elif( enviroment == \"IN_BUILDING_LINE\"):\n",
    "        return random.uniform(1.6, 1.8)\n",
    "    elif( enviroment == \"OBSTRUCTED_IN_BUILDING\"):\n",
    "        return random.uniform(4.0, 6.0)\n",
    "    elif( enviroment == \"OBSTRUCTED_IN_FACTORY\"):\n",
    "        return random.uniform(2.0, 3.0)"
   ],
   "outputs": [],
   "metadata": {}
  },
  {
   "cell_type": "code",
   "execution_count": 85,
   "source": [
    "pr = get_friis_propagation(1,1000, 0.33, 2)\n",
    "print(f\"Potencia en el receptor: {pr}[dBm]\")"
   ],
   "outputs": [
    {
     "output_type": "stream",
     "name": "stdout",
     "text": [
      "Potencia en el receptor: -61.61391848288417[dBm]\n"
     ]
    }
   ],
   "metadata": {}
  },
  {
   "cell_type": "code",
   "execution_count": 86,
   "source": [
    "PER = get_PER(1e3, 16, 10, 1e6, 8e-6)\n",
    "print(PER)"
   ],
   "outputs": [
    {
     "output_type": "stream",
     "name": "stdout",
     "text": [
      "Gamma:  90.0\n",
      "SER:  3.3135471003475914e-05 \n",
      "N° símbolos por paquete:  250\n",
      "0.008249787181468404\n"
     ]
    }
   ],
   "metadata": {
    "scrolled": true
   }
  },
  {
   "cell_type": "code",
   "execution_count": 87,
   "source": [
    "def get_stdRandNum():\n",
    "    return np.random.standard_normal()"
   ],
   "outputs": [],
   "metadata": {}
  },
  {
   "cell_type": "code",
   "execution_count": 89,
   "source": [
    "def isThisPacketWrong(PER):\n",
    "    area_baja = stats.norm.ppf(PER/2)\n",
    "    area_alta = stats.norm.ppf(1 - PER/2)\n",
    "    #print(area_baja, area_alta)\n",
    "    num = get_stdRandNum()\n",
    "    if num < area_baja or num > area_alta:\n",
    "        return True\n",
    "    else:\n",
    "        return False"
   ],
   "outputs": [],
   "metadata": {}
  },
  {
   "cell_type": "code",
   "execution_count": 90,
   "source": [
    "count = 0\n",
    "max_num = 10000\n",
    "for i in range(max_num):\n",
    "    if isThisPacketWrong(PER):\n",
    "        count +=1\n",
    "print(f\"N° de paquetes con bits errados: {count}\\n\", f\"Probabilidad de PER experimental: {count/max_num}\")"
   ],
   "outputs": [
    {
     "output_type": "stream",
     "name": "stdout",
     "text": [
      "N° de paquetes con bits errados: 76\n",
      " Probabilidad de PER experimental: 0.0076\n"
     ]
    }
   ],
   "metadata": {
    "scrolled": false
   }
  },
  {
   "cell_type": "code",
   "execution_count": 100,
   "source": [
    "def get_RxSNR(S, N):\n",
    "    S = dB2Veces(S)\n",
    "    N = dB2Veces(N)\n",
    "    #print(S, N)\n",
    "    SNR = S/N\n",
    "    return 10*np.log10(SNR)"
   ],
   "outputs": [],
   "metadata": {}
  },
  {
   "cell_type": "code",
   "execution_count": 159,
   "source": [
    "def simulator(max_iter):\n",
    "    p_tx = 30 # [dBm] Tx\n",
    "    p_noise = -70 # [dBm] Ruido < --- **Justificar**\n",
    "    p_inRx = get_friis_propagation(dBm2pot(p_tx), 1000, 0.33, 2)\n",
    "    #print(dBm2pot(p_tx), p_inRx)\n",
    "    errs = 0\n",
    "    count = 0\n",
    "    while count != max_iter:\n",
    "        Rx_SNR = get_RxSNR(p_inRx, p_noise)\n",
    "        #print(Rx_SNR)\n",
    "        PER = get_PER(1e3, 16, Rx_SNR, 1e6, 8e-6)\n",
    "        #print(f\"PER: {PER}\")\n",
    "        if PER != 0:\n",
    "             if isThisPacketWrong(PER):\n",
    "                    errs +=1\n",
    "        count +=1\n",
    "    print(f\"N° paquetes errados: {errs}, N° total de paquetes {max_iter}, Tasa de trasmisión efectiva: {errs/max_iter}\")"
   ],
   "outputs": [],
   "metadata": {}
  },
  {
   "cell_type": "code",
   "execution_count": 160,
   "source": [
    "simulator(1000)"
   ],
   "outputs": [
    {
     "output_type": "stream",
     "name": "stdout",
     "text": [
      "N° paquetes errados: 151, N° total de paquetes 1000, Tasa de trasmisión efectiva: 0.151\n"
     ]
    }
   ],
   "metadata": {
    "scrolled": false
   }
  },
  {
   "cell_type": "code",
   "execution_count": null,
   "source": [],
   "outputs": [],
   "metadata": {}
  }
 ],
 "metadata": {
  "interpreter": {
   "hash": "082e9a3bcad0a290d0001e938aa60b99250c6c2ef33a923c00b70f9826caf4b7"
  },
  "kernelspec": {
   "display_name": "Python 3",
   "language": "python",
   "name": "python3"
  },
  "language_info": {
   "codemirror_mode": {
    "name": "ipython",
    "version": 3
   },
   "file_extension": ".py",
   "mimetype": "text/x-python",
   "name": "python",
   "nbconvert_exporter": "python",
   "pygments_lexer": "ipython3",
   "version": "3.8.10"
  }
 },
 "nbformat": 4,
 "nbformat_minor": 5
}