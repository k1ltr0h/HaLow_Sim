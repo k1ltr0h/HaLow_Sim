{
 "cells": [
  {
   "cell_type": "code",
   "execution_count": 5,
   "id": "f012546b",
   "metadata": {},
   "outputs": [],
   "source": [
    "import numpy as np\n",
    "import matplotlib.pyplot as plt\n",
    "import pandas as pd\n",
    "from scipy import special as sp"
   ]
  },
  {
   "cell_type": "code",
   "execution_count": 6,
   "id": "eb6d3756",
   "metadata": {},
   "outputs": [],
   "source": [
    "def qfunc(x):\n",
    "    ## Función Q, calculada con la función de error.\n",
    "    return 0.5-0.5*sp.erf(x/np.sqrt(2))"
   ]
  },
  {
   "cell_type": "code",
   "execution_count": 7,
   "id": "646357a6",
   "metadata": {},
   "outputs": [],
   "source": [
    "def get_SNRPerSimbol(snr, bw, sps):\n",
    "    ## snr: SNR de la señal en el receptor.\n",
    "    ## bw: Ancho de banda de la señal.\n",
    "    ## sps: símbolos por segundo. \n",
    "    return snr*bw/sps "
   ]
  },
  {
   "cell_type": "code",
   "execution_count": 8,
   "id": "d6beb974",
   "metadata": {},
   "outputs": [],
   "source": [
    "def get_SimbolsPerSecond(bw, gi):\n",
    "    ## bw: Ancho de banda de la señal.\n",
    "    ## gi: Guard interval(Evita ISI(Interferencia inter-simbólica) por rebotes de la señal).\n",
    "    periodo = 1/bw\n",
    "    new_periodo = 1/bw + gi\n",
    "    return 1/new_periodo"
   ]
  },
  {
   "cell_type": "code",
   "execution_count": 39,
   "id": "78d191b9",
   "metadata": {},
   "outputs": [],
   "source": [
    "def get_SER(m, snr, bw, gi):\n",
    "    ## m: Número de M-QAM\n",
    "    ## snr: SNR de la señal en el receptor.\n",
    "    ## bw: Ancho de banda de la señal.\n",
    "    ## gi: Guard interval(Evita ISI(Interferencia inter-simbólica) por rebotes de la señal).\n",
    "    sps = get_SimbolsPerSecond(bw, gi)\n",
    "    gamma = get_SNRPerSimbol(snr, bw, sps)\n",
    "    print(\"Gamma: \", gamma)\n",
    "    \n",
    "    return 1-pow((1-(2*(np.sqrt(m)-1)/np.sqrt(m))*qfunc(np.sqrt(3*gamma/(m-1)))), 2)"
   ]
  },
  {
   "cell_type": "code",
   "execution_count": 81,
   "id": "13f80569",
   "metadata": {},
   "outputs": [],
   "source": [
    "def get_PER(n, m, snr, bw, gi):\n",
    "    ## n: N° de bits en un paquete\n",
    "    ## m: Número de M-QAM\n",
    "    ## snr: SNR de la señal en el receptor.\n",
    "    ## bw: Ancho de banda de la señal.\n",
    "    ## gi: Guard interval(Evita ISI(Interferencia inter-simbólica) por rebotes de la señal).\n",
    "    ps = get_SER(m, snr, bw, gi)\n",
    "    ## n_spp: N° de símbolos en un paquete\n",
    "    n_spp = int(n/np.log2(m))\n",
    "    print(\"SER: \", ps, \"\\nN° símbolos por paquete: \", n_spp)\n",
    "    return 1-pow((1-ps), n_spp)"
   ]
  },
  {
   "cell_type": "code",
   "execution_count": 82,
   "id": "c4037cc9",
   "metadata": {},
   "outputs": [
    {
     "name": "stdout",
     "output_type": "stream",
     "text": [
      "Gamma:  18.0\n"
     ]
    },
    {
     "data": {
      "text/plain": [
       "0.0847914623383309"
      ]
     },
     "execution_count": 82,
     "metadata": {},
     "output_type": "execute_result"
    }
   ],
   "source": [
    "get_SER(16, 2, 1e6, 8e-6)"
   ]
  },
  {
   "cell_type": "code",
   "execution_count": 83,
   "id": "a4cb88ea",
   "metadata": {},
   "outputs": [
    {
     "name": "stdout",
     "output_type": "stream",
     "text": [
      "Gamma:  45.0\n",
      "SER:  0.0040455940893247 \n",
      "N° símbolos por paquete:  250\n"
     ]
    },
    {
     "data": {
      "text/plain": [
       "0.6370353784878433"
      ]
     },
     "execution_count": 83,
     "metadata": {},
     "output_type": "execute_result"
    }
   ],
   "source": [
    "get_PER(1e3, 16, 5, 1e6, 8e-6)"
   ]
  },
  {
   "cell_type": "code",
   "execution_count": null,
   "id": "8df77ec2",
   "metadata": {},
   "outputs": [],
   "source": []
  },
  {
   "cell_type": "code",
   "execution_count": null,
   "id": "33e20287",
   "metadata": {},
   "outputs": [],
   "source": []
  }
 ],
 "metadata": {
  "kernelspec": {
   "display_name": "Python 3",
   "language": "python",
   "name": "python3"
  },
  "language_info": {
   "codemirror_mode": {
    "name": "ipython",
    "version": 3
   },
   "file_extension": ".py",
   "mimetype": "text/x-python",
   "name": "python",
   "nbconvert_exporter": "python",
   "pygments_lexer": "ipython3",
   "version": "3.8.10"
  }
 },
 "nbformat": 4,
 "nbformat_minor": 5
}
