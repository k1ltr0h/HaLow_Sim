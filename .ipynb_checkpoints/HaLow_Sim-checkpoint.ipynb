{
 "cells": [
  {
   "cell_type": "code",
   "execution_count": 19,
   "id": "f012546b",
   "metadata": {},
   "outputs": [],
   "source": [
    "import numpy as np\n",
    "import matplotlib.pyplot as plt\n",
    "import pandas as pd\n",
    "from scipy import special as sp\n",
    "from scipy import stats"
   ]
  },
  {
   "cell_type": "code",
   "execution_count": 78,
   "id": "c9ab67d4",
   "metadata": {},
   "outputs": [],
   "source": [
    "def dB2Veces(potencia):\n",
    "    return pow(10, potencia/10)"
   ]
  },
  {
   "cell_type": "code",
   "execution_count": 79,
   "id": "7b445ee9",
   "metadata": {},
   "outputs": [],
   "source": [
    "def dBm2pot(dbm):\n",
    "    return pow(10, dbm/10)*1e-3"
   ]
  },
  {
   "cell_type": "code",
   "execution_count": 2,
   "id": "eb6d3756",
   "metadata": {},
   "outputs": [],
   "source": [
    "def qfunc(x):\n",
    "    ## Función Q, calculada con la función de error.\n",
    "    return 0.5-0.5*sp.erf(x/np.sqrt(2))"
   ]
  },
  {
   "cell_type": "code",
   "execution_count": 80,
   "id": "646357a6",
   "metadata": {},
   "outputs": [],
   "source": [
    "def get_SNRPerSimbol(snr, bw, sps):\n",
    "    ## snr: SNR de la señal en el receptor.\n",
    "    ## bw: Ancho de banda de la señal.\n",
    "    ## sps: símbolos por segundo. \n",
    "    snr = dB2Veces(snr)\n",
    "    return snr*bw/sps "
   ]
  },
  {
   "cell_type": "code",
   "execution_count": 81,
   "id": "d6beb974",
   "metadata": {},
   "outputs": [],
   "source": [
    "def get_SimbolsPerSecond(bw, gi):\n",
    "    ## bw: Ancho de banda de la señal.\n",
    "    ## gi: Guard interval(Evita ISI(Interferencia inter-simbólica) por rebotes de la señal).\n",
    "    periodo = 1/bw\n",
    "    new_periodo = 1/bw + gi\n",
    "    return 1/new_periodo"
   ]
  },
  {
   "cell_type": "code",
   "execution_count": 158,
   "id": "78d191b9",
   "metadata": {},
   "outputs": [],
   "source": [
    "def get_SER(m, snr, bw, gi):\n",
    "    ## m: Número de M-QAM\n",
    "    ## snr: SNR de la señal en el receptor.\n",
    "    ## bw: Ancho de banda de la señal.\n",
    "    ## gi: Guard interval(Evita ISI(Interferencia inter-simbólica) por rebotes de la señal).\n",
    "    sps = get_SimbolsPerSecond(bw, gi)\n",
    "    gamma = get_SNRPerSimbol(snr, bw, sps)\n",
    "    #print(\"Gamma: \", gamma)\n",
    "    \n",
    "    return 1-pow((1-(2*(np.sqrt(m)-1)/np.sqrt(m))*qfunc(np.sqrt(3*gamma/(m-1)))), 2)"
   ]
  },
  {
   "cell_type": "code",
   "execution_count": 157,
   "id": "13f80569",
   "metadata": {},
   "outputs": [],
   "source": [
    "def get_PER(n, m, snr, bw, gi):\n",
    "    ## n: N° de bits en un paquete\n",
    "    ## m: Número de M-QAM\n",
    "    ## snr: SNR de la señal en el receptor.\n",
    "    ## bw: Ancho de banda de la señal.\n",
    "    ## gi: Guard interval(Evita ISI(Interferencia inter-simbólica) por rebotes de la señal).\n",
    "    ps = get_SER(m, snr, bw, gi)\n",
    "    ## n_spp: N° de símbolos en un paquete\n",
    "    n_spp = int(n/np.log2(m))\n",
    "    #print(\"SER: \", ps, \"\\nN° símbolos por paquete: \", n_spp)\n",
    "    return 1-pow((1-ps), n_spp)"
   ]
  },
  {
   "cell_type": "code",
   "execution_count": 84,
   "id": "dc5fa9e2",
   "metadata": {},
   "outputs": [],
   "source": [
    "def get_friis_propagation(pt, d, longOnda, ple):\n",
    "    ## pt: Potencia del transmisor. \n",
    "    ## d: Distancia hacia el receptor.\n",
    "    ## longOnda: Longitud de onda de la portadora.\n",
    "    ## ple: Path Loss Exponent\n",
    "    friis = (pt*(longOnda**2)/(((4*np.pi)**2)*((d)**ple)))   \n",
    "    return 10*np.log10(friis/1e-3)"
   ]
  },
  {
   "cell_type": "code",
   "execution_count": 85,
   "id": "11d9dae1",
   "metadata": {},
   "outputs": [
    {
     "name": "stdout",
     "output_type": "stream",
     "text": [
      "Potencia en el receptor: -61.61391848288417[dBm]\n"
     ]
    }
   ],
   "source": [
    "pr = get_friis_propagation(1,1000, 0.33, 2)\n",
    "print(f\"Potencia en el receptor: {pr}[dBm]\")"
   ]
  },
  {
   "cell_type": "code",
   "execution_count": 86,
   "id": "a4cb88ea",
   "metadata": {
    "scrolled": true
   },
   "outputs": [
    {
     "name": "stdout",
     "output_type": "stream",
     "text": [
      "Gamma:  90.0\n",
      "SER:  3.3135471003475914e-05 \n",
      "N° símbolos por paquete:  250\n",
      "0.008249787181468404\n"
     ]
    }
   ],
   "source": [
    "PER = get_PER(1e3, 16, 10, 1e6, 8e-6)\n",
    "print(PER)"
   ]
  },
  {
   "cell_type": "code",
   "execution_count": 87,
   "id": "659c0bbe",
   "metadata": {},
   "outputs": [],
   "source": [
    "def get_stdRandNum():\n",
    "    return np.random.standard_normal()"
   ]
  },
  {
   "cell_type": "code",
   "execution_count": 89,
   "id": "88e94f17",
   "metadata": {},
   "outputs": [],
   "source": [
    "def isThisPacketWrong(PER):\n",
    "    area_baja = stats.norm.ppf(PER/2)\n",
    "    area_alta = stats.norm.ppf(1 - PER/2)\n",
    "    #print(area_baja, area_alta)\n",
    "    num = get_stdRandNum()\n",
    "    if num < area_baja or num > area_alta:\n",
    "        return True\n",
    "    else:\n",
    "        return False"
   ]
  },
  {
   "cell_type": "code",
   "execution_count": 90,
   "id": "31d6dcf4",
   "metadata": {
    "scrolled": false
   },
   "outputs": [
    {
     "name": "stdout",
     "output_type": "stream",
     "text": [
      "N° de paquetes con bits errados: 76\n",
      " Probabilidad de PER experimental: 0.0076\n"
     ]
    }
   ],
   "source": [
    "count = 0\n",
    "max_num = 10000\n",
    "for i in range(max_num):\n",
    "    if isThisPacketWrong(PER):\n",
    "        count +=1\n",
    "print(f\"N° de paquetes con bits errados: {count}\\n\", f\"Probabilidad de PER experimental: {count/max_num}\")"
   ]
  },
  {
   "cell_type": "code",
   "execution_count": 100,
   "id": "4b6d4816",
   "metadata": {},
   "outputs": [],
   "source": [
    "def get_RxSNR(S, N):\n",
    "    S = dB2Veces(S)\n",
    "    N = dB2Veces(N)\n",
    "    #print(S, N)\n",
    "    SNR = S/N\n",
    "    return 10*np.log10(SNR)"
   ]
  },
  {
   "cell_type": "code",
   "execution_count": 159,
   "id": "bd003708",
   "metadata": {},
   "outputs": [],
   "source": [
    "def simulator(max_iter):\n",
    "    p_tx = 30 # [dBm] Tx\n",
    "    p_noise = -70 # [dBm] Ruido < --- **Justificar**\n",
    "    p_inRx = get_friis_propagation(dBm2pot(p_tx), 1000, 0.33, 2)\n",
    "    #print(dBm2pot(p_tx), p_inRx)\n",
    "    errs = 0\n",
    "    count = 0\n",
    "    while count != max_iter:\n",
    "        Rx_SNR = get_RxSNR(p_inRx, p_noise)\n",
    "        #print(Rx_SNR)\n",
    "        PER = get_PER(1e3, 16, Rx_SNR, 1e6, 8e-6)\n",
    "        #print(f\"PER: {PER}\")\n",
    "        if PER != 0:\n",
    "             if isThisPacketWrong(PER):\n",
    "                    errs +=1\n",
    "        count +=1\n",
    "    print(f\"N° paquetes errados: {errs}, N° total de paquetes {max_iter}, Tasa de trasmisión efectiva: {errs/max_iter}\")"
   ]
  },
  {
   "cell_type": "code",
   "execution_count": 160,
   "id": "b5f523ee",
   "metadata": {
    "scrolled": false
   },
   "outputs": [
    {
     "name": "stdout",
     "output_type": "stream",
     "text": [
      "N° paquetes errados: 151, N° total de paquetes 1000, Tasa de trasmisión efectiva: 0.151\n"
     ]
    }
   ],
   "source": [
    "simulator(1000)"
   ]
  },
  {
   "cell_type": "code",
   "execution_count": null,
   "id": "544464c4",
   "metadata": {},
   "outputs": [],
   "source": []
  }
 ],
 "metadata": {
  "interpreter": {
   "hash": "082e9a3bcad0a290d0001e938aa60b99250c6c2ef33a923c00b70f9826caf4b7"
  },
  "kernelspec": {
   "display_name": "Python 3",
   "language": "python",
   "name": "python3"
  },
  "language_info": {
   "codemirror_mode": {
    "name": "ipython",
    "version": 3
   },
   "file_extension": ".py",
   "mimetype": "text/x-python",
   "name": "python",
   "nbconvert_exporter": "python",
   "pygments_lexer": "ipython3",
   "version": "3.8.10"
  }
 },
 "nbformat": 4,
 "nbformat_minor": 5
}
